{
 "cells": [
  {
   "cell_type": "code",
   "execution_count": null,
   "id": "34bca5cb",
   "metadata": {},
   "outputs": [],
   "source": [
    "from Forecaster_base import *\n",
    "#Reminder, you must input your twitter keys in Twitter_Tools.py"
   ]
  },
  {
   "cell_type": "code",
   "execution_count": null,
   "id": "aff6429b",
   "metadata": {},
   "outputs": [],
   "source": [
    "#Generate our forecaster object\n",
    "FC = NLPForecaster()"
   ]
  },
  {
   "cell_type": "code",
   "execution_count": null,
   "id": "1b3d3cf5",
   "metadata": {},
   "outputs": [],
   "source": [
    "#Retrieve basic stock statistics from 7 days\n",
    "FC.price_df = fetch_7day_price('GME', days=7)"
   ]
  },
  {
   "cell_type": "code",
   "execution_count": null,
   "id": "0d5ae480",
   "metadata": {},
   "outputs": [],
   "source": [
    "FC.price_df.head()"
   ]
  },
  {
   "cell_type": "code",
   "execution_count": null,
   "id": "a0d48119",
   "metadata": {},
   "outputs": [],
   "source": [
    "#Retrieve twitter sentiment scores and merge into a single dataframe with stock price\n",
    "# Generally a better result when querying on a later day within the market week\n",
    "FC.build_forecast_df(ticker='GME', total_tweets=20000)"
   ]
  },
  {
   "cell_type": "code",
   "execution_count": null,
   "id": "fa4b2f71",
   "metadata": {},
   "outputs": [],
   "source": [
    "FC.forecast_df.head()"
   ]
  },
  {
   "cell_type": "code",
   "execution_count": null,
   "id": "8e8490ee",
   "metadata": {},
   "outputs": [],
   "source": [
    "#Store data\n",
    "FC.store_df(path=os.getcwd()+'\\\\GME.csv', append=True)"
   ]
  },
  {
   "cell_type": "code",
   "execution_count": null,
   "id": "f8b92cba",
   "metadata": {},
   "outputs": [],
   "source": [
    "#if this isn't the first isntance for this ticker, data will combined with previous queries\n",
    "FC.fetch_old_df(path=os.getcwd()+'\\\\GME.csv')"
   ]
  },
  {
   "cell_type": "code",
   "execution_count": null,
   "id": "eda37db1",
   "metadata": {},
   "outputs": [],
   "source": [
    "#Plot twitter volume independant quantities\n",
    "FC.plot_controversy_and_twitter()"
   ]
  },
  {
   "cell_type": "code",
   "execution_count": null,
   "id": "ec8e4fa8",
   "metadata": {},
   "outputs": [],
   "source": [
    "#Build a price prediction model\n",
    "#Warning, if Nan present in your dataframe you may need to run an interpolation to make the forecastor function as intended\n",
    "Prediction = FC.build_predictor()"
   ]
  },
  {
   "cell_type": "code",
   "execution_count": null,
   "id": "ee13ff30",
   "metadata": {},
   "outputs": [],
   "source": []
  }
 ],
 "metadata": {
  "kernelspec": {
   "display_name": "Python 3",
   "language": "python",
   "name": "python3"
  },
  "language_info": {
   "codemirror_mode": {
    "name": "ipython",
    "version": 3
   },
   "file_extension": ".py",
   "mimetype": "text/x-python",
   "name": "python",
   "nbconvert_exporter": "python",
   "pygments_lexer": "ipython3",
   "version": "3.8.8"
  }
 },
 "nbformat": 4,
 "nbformat_minor": 5
}
